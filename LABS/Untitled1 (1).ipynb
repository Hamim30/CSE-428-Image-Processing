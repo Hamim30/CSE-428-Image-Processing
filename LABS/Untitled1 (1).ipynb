{
  "nbformat": 4,
  "nbformat_minor": 0,
  "metadata": {
    "colab": {
      "private_outputs": true,
      "provenance": []
    },
    "kernelspec": {
      "name": "python3",
      "display_name": "Python 3"
    },
    "language_info": {
      "name": "python"
    }
  },
  "cells": [
    {
      "cell_type": "code",
      "execution_count": null,
      "metadata": {
        "id": "6YNZHe33m6bI"
      },
      "outputs": [],
      "source": [
        "import numpy as np\n",
        "\n",
        "from skimage import io , data , exposure ,color\n",
        "\n",
        "import matplotlib.pyplot as plt"
      ]
    },
    {
      "cell_type": "code",
      "source": [
        "from prompt_toolkit.shortcuts.progress_bar.formatters import Percentage\n",
        "class Image:\n",
        "  import numpy as np\n",
        "  def __init__(self,data:np.ndarray):\n",
        "    self.data=data\n",
        "    self.height= data.shape[0]\n",
        "    self.width=data.shape[1]\n",
        "    self.datatype=data.dtype\n",
        "\n",
        "\n",
        "  def is_grayscale(self):\n",
        "    return len(self.data.shape)==2\n",
        "\n",
        "\n",
        "  def imshow(self):\n",
        "    import matplotlib.pyplot as plt\n",
        "    if (self.is_grayscale()):\n",
        "      plt.imshow(self.data,cmap=\"gray\")\n",
        "\n",
        "\n",
        "  def histogram(self,intensity_resolution=8,normalize=False):\n",
        "    import numpy as np\n",
        "    if self.is_grayscale():\n",
        "      bins=np.arange(0,2**intensity_resolution,1)\n",
        "      hist=np.zeros_like(bins)\n",
        "      for i in range(self.height):\n",
        "        for j in range(self.width):\n",
        "          hist[self.data[i,j]] = hist[self.data[i,j]]*((2**intensity_resolution)/256)\n",
        "      if (normalize):\n",
        "          hist=hist/(self.height*self.width)\n",
        "    return bins, hist\n",
        "  def plot_histogram(self, nbins=256, normalize=False, plot_cdf=True):\n",
        "    hist,bins_hist=exposure.histogram(self.data.ravel(),nbins=nbins,normalize=True)\n",
        "    plt.plot(bins_hist, hist,'k')\n",
        "    plt.xlabel(\"pixel value\")\n",
        "    if normalize:\n",
        "      plt.ylabel('probabilty')\n",
        "    else:\n",
        "      plt.ylabel('count')\n",
        "    xmax=1 if self.data.max()<=1 else 255\n",
        "    plt.xlim([0,xmax])\n",
        "    if plot_cdf:\n",
        "      cdf,bins_cdf=exposure.cumulative_distribution(self.data.ravel(),nbins=nbins)\n",
        "      plt.twinx()\n",
        "      plt.plot(bins_cdf,cdf,'r',lw=3)\n",
        "      plt.ylabel ('Percentage')\n",
        "  def plot_img_and_hist(self, nbins=256, normalize=False, plot_cdf=True ):\n",
        "    plt.subplot(2,1,1)\n",
        "    io.imshow(self.data)\n",
        "    plt.axis('off')\n",
        "    plt.title('image')\n",
        "    plt.subplot(2,1,2)\n",
        "    self.plot_histogram(nbins=nbins,normalize=normalize,plot_cdf=plot_cdf)\n",
        "    plt.title('histogram')\n",
        "  # def plot_histogram(self,intensity_resolution=8,normalize=False):\n",
        "  #   import matplotlib.pyplot as plt\n",
        "  #   bins, hist=self.histogram(intensity_resolution=intensity_resolution,normalize=normalize)\n",
        "  #   plt.plot(bins, hist)\n",
        "  def cumulative_histogram(self,intensity_resolution=8,normalize=False):\n",
        "    bins, hist=self.histogram(intensity_resolution=intensity_resolution,normalize=normalize)\n",
        "    for i in range(1,len(hist)):\n",
        "      hist[i]=hist[i-1]+hist[i]\n",
        "    return bins,hist\n",
        "\n",
        "\n",
        "  def plot_cumulative_histogram(self,intensity_resolution=8,normalize=False):\n",
        "    import matplotlib.pyplot as plt\n",
        "    bins, hist=self.cumulative_histogram(intensity_resolution=intensity_resolution,normalize=normalize)\n",
        "    plt.plot(bins, hist)\n",
        "\n",
        "\n",
        "  def contrast_streching(self,intensity_resolution=8,normalize=False):\n",
        "    import numpy as np\n",
        "    r=self.data/255\n",
        "    h=np.max(r)\n",
        "    l=np.min(r)\n",
        "    s=(((1/(h-l))*(r-l))*255).astype(np.uint8)\n",
        "    return Image(s)\n",
        "\n",
        "\n",
        "  def contrast_streching2(self,intensity_resolution=8,normalize=False):\n",
        "    import numpy as np\n",
        "    s_I=Image(self.data/2**intensity_resolution)\n",
        "    H=s_I.data.max()\n",
        "    L=s_I.data.min()\n",
        "    s_I.data=np.clip((s_I.data-L)*(1/H-L),0,1)*2**intensity_resolution\n",
        "    s_I.data=s_I.data.astype(np.uint8)\n",
        "    return Image(s_I)\n",
        "\n",
        "\n",
        "  def power_transform(self,gamma):\n",
        "    import numpy as np\n",
        "    r=self.data/255\n",
        "    r=r**gamma\n",
        "    c=np.max(r)\n",
        "    s=r/c\n",
        "    return Image(s)\n",
        "  def plot_histogram_color(self, nbins=256, normalize=False, plot_cdf=True):\n",
        "    colour=['r','g','b']\n",
        "    for i in range(3):\n",
        "      hist,bins_hist=exposure.histogram(self.data[:,:,i].ravel(),nbins=nbins,normalize=True)\n",
        "      plt.plot(bins_hist, hist,colour[i])\n",
        "    plt.xlabel(\"pixel value\")\n",
        "    if normalize:\n",
        "      plt.ylabel('probabilty')\n",
        "    else:\n",
        "      plt.ylabel('count')\n",
        "    xmax=1 if self.data.max()<=1 else 255\n",
        "    plt.xlim([0,xmax])\n",
        "    plt.legend(['red channel','green channel','blue channel'])\n",
        "    # if plot_cdf:\n",
        "    #   cdf,bins_cdf=exposure.cumulative_distribution(self.data.ravel(),nbins=nbins)\n",
        "    #   plt.twinx()\n",
        "    #   plt.plot(bins_cdf,cdf,'r',lw=3)\n",
        "    #   plt.ylabel ('Percentage')\n",
        "  def plot_img_and_hist_color(self, nbins=256, normalize=False ):\n",
        "      plt.subplot(2,1,1)\n",
        "      io.imshow(self.data)\n",
        "      plt.axis('off')\n",
        "      plt.title('image')\n",
        "      plt.subplot(2,1,2)\n",
        "      self.plot_histogram_color(nbins=nbins,normalize=normalize)\n",
        "      plt.title('histogram')\n",
        "  def ad_hist(self,nbins=256,window=(30,30),clip_limit=0.01,normal_he=True):\n",
        "    I_gray=self.data/255\n",
        "    if normal_he:\n",
        "      data_eq= exposure.equalize_hist(I_gray,nbins=nbins)\n",
        "    else:\n",
        "      data_eq=exposure.equalize_adapthist(I_gray,kernel_size=window, clip_limit=clip_limit,nbins=nbins)\n",
        "    return data_eq\n",
        "        # I_gray_norm=exposure.equalize_adapthist(I_gray,kernel_size=(50,50),clip_limit=0.04,nbins=256)\n",
        "        # plt.subplot(2,2,1)\n",
        "        # io.imshow(I_gray)\n",
        "        # plt.subplot(2,2,2)\n",
        "        # io.imshow(I_gray_norm)\n",
        "        # plt.subplot(2,2,3)\n",
        "        # x,y=exposure.cumulative_distribution(I_gray.ravel(),nbins=256)\n",
        "        # plt.plot(x,y)\n",
        "        # plt.subplot(2,2,4)\n",
        "        # x1,y1=exposure.cumulative_distribution(I_gray_norm.ravel(),nbins=256)\n",
        "        # plt.plot(x1,y1)"
      ],
      "metadata": {
        "id": "XpgnWSM4nAA9"
      },
      "execution_count": null,
      "outputs": []
    },
    {
      "cell_type": "code",
      "source": [
        "I_gray=data.cat()\n",
        "img_gray=Image(I_gray)\n",
        "print(img_gray.plot_histogram())\n",
        "img_gray.plot_img_and_hist_color()"
      ],
      "metadata": {
        "id": "N9Vpcp97oxu-"
      },
      "execution_count": null,
      "outputs": []
    },
    {
      "cell_type": "code",
      "source": [
        "I=data.camera()\n",
        "x=Image(I)\n",
        "I_eq=Image(x.ad_hist(normal_he=False,clip_limit=0))\n",
        "I_eq.plot_img_and_hist()"
      ],
      "metadata": {
        "id": "eC7Cm2Z-q-La"
      },
      "execution_count": null,
      "outputs": []
    },
    {
      "cell_type": "code",
      "source": [
        "I_color=data.cat()\n",
        "I_color_lab=color.rgb2lab(I_color)\n",
        "\n",
        "I_color_lab[:,:,0]=(I_color_lab[:,:,0]/100)\n",
        "I_color_lab_eq= exposure.equalize_adapthist(I_color_lab[:,:,0],kernel_size=(100,100),clip_limit=0.01,nbins=256)\n",
        "img_lab=Image(I_color_lab_eq)\n",
        "img_lab.plot_histogram()"
      ],
      "metadata": {
        "id": "b69gYebd5XRs"
      },
      "execution_count": null,
      "outputs": []
    },
    {
      "cell_type": "code",
      "source": [
        "I_color_lab[:,:,0] =I_color_lab_eq*100\n",
        "I_color_recon=color.lab2rgb(I_color_lab)\n",
        "io.imshow(I_color_recon)"
      ],
      "metadata": {
        "id": "Cpeh_z-xChqv"
      },
      "execution_count": null,
      "outputs": []
    },
    {
      "cell_type": "code",
      "source": [
        "a=data.grass()\n",
        "a=Image(a)\n",
        "a.plot_img_and_hist()\n",
        "c=a.contrast_streching()\n",
        "c.imshow()\n",
        "c.plot_img_and_hist()"
      ],
      "metadata": {
        "id": "RqQl8vK6Zkxq"
      },
      "execution_count": null,
      "outputs": []
    }
  ]
}